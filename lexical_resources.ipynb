{
 "cells": [
  {
   "cell_type": "markdown",
   "metadata": {},
   "source": [
    "### Conditional Frequency Distributions:"
   ]
  },
  {
   "cell_type": "code",
   "execution_count": 5,
   "metadata": {},
   "outputs": [],
   "source": [
    "import nltk\n",
    "# Conditional frequency distribution needs to pair each event with a condition\n",
    "\n",
    "text = ['The', 'Fulton', 'County', 'Grand', 'Jury', 'said', ...]\n",
    "pairs = [('news', 'The'), ('news', 'Fulton'), ('news', 'County'), ...]"
   ]
  },
  {
   "cell_type": "code",
   "execution_count": 6,
   "metadata": {},
   "outputs": [
    {
     "data": {
      "text/plain": [
       "170576"
      ]
     },
     "execution_count": 6,
     "metadata": {},
     "output_type": "execute_result"
    }
   ],
   "source": [
    "from nltk.corpus import brown\n",
    "\n",
    "#cfd = nltk.ConditionalFreqDist(\n",
    "#    (genre, word)\n",
    "#    for genre in brown.categories()\n",
    "#    for word in brown.words(categories=genre))\n",
    "\n",
    "genre_word = [(genre, word)\n",
    "             for genre in ['news', 'romance']\n",
    "             for word in brown.words(categories=genre)]\n",
    "len(genre_word)"
   ]
  },
  {
   "cell_type": "code",
   "execution_count": 7,
   "metadata": {
    "scrolled": true
   },
   "outputs": [
    {
     "data": {
      "text/plain": [
       "[('news', 'The'),\n",
       " ('news', 'Fulton'),\n",
       " ('news', 'County'),\n",
       " ('news', 'Grand'),\n",
       " ('news', 'Jury'),\n",
       " ('news', 'said'),\n",
       " ('news', 'Friday'),\n",
       " ('news', 'an'),\n",
       " ('news', 'investigation'),\n",
       " ('news', 'of')]"
      ]
     },
     "execution_count": 7,
     "metadata": {},
     "output_type": "execute_result"
    }
   ],
   "source": [
    "genre_word[:10]"
   ]
  },
  {
   "cell_type": "code",
   "execution_count": 8,
   "metadata": {},
   "outputs": [
    {
     "data": {
      "text/plain": [
       "['news', 'romance']"
      ]
     },
     "execution_count": 8,
     "metadata": {},
     "output_type": "execute_result"
    }
   ],
   "source": [
    "cfd = nltk.ConditionalFreqDist(genre_word)\n",
    "cfd.conditions()"
   ]
  },
  {
   "cell_type": "code",
   "execution_count": 9,
   "metadata": {
    "scrolled": true
   },
   "outputs": [
    {
     "name": "stdout",
     "output_type": "stream",
     "text": [
      "[('the', 5580), (',', 5188), ('.', 4030), ('of', 2849), ('and', 2146), ('to', 2116), ('a', 1993), ('in', 1893), ('for', 943), ('The', 806), ('that', 802), ('``', 732), ('is', 732), ('was', 717), (\"''\", 702), ('on', 657), ('at', 598), ('with', 545), ('be', 526), ('by', 497)]\n"
     ]
    }
   ],
   "source": [
    "print(cfd['news'].most_common(20))"
   ]
  },
  {
   "cell_type": "code",
   "execution_count": 10,
   "metadata": {},
   "outputs": [
    {
     "name": "stdout",
     "output_type": "stream",
     "text": [
      "[',', '.', 'the', 'and', 'to', 'a', 'of', '``', \"''\", 'was', 'I', 'in', 'he', 'had', '?', 'her', 'that', 'it', 'his', 'she', 'with', 'you', 'for', 'at', 'He', 'on', 'him', 'said', '!', '--', 'be', 'as', ';', 'have', 'but', 'not', 'would', 'She', 'The', 'out', 'were', 'up', 'all', 'from', 'could', 'me', 'like', 'been', 'so', 'there']\n"
     ]
    }
   ],
   "source": [
    "cfd['news']['of']\n",
    "print(list(cfd['romance'])[:50])"
   ]
  },
  {
   "cell_type": "markdown",
   "metadata": {},
   "source": [
    "### Plotting and Tabulating Distributions:"
   ]
  },
  {
   "cell_type": "code",
   "execution_count": 11,
   "metadata": {},
   "outputs": [
    {
     "name": "stdout",
     "output_type": "stream",
     "text": [
      "                 0   1   2   3   4   5   6   7   8   9 \n",
      "       English   0 185 340 358 114 169 117 157 118  80 \n",
      "German_Deutsch   0 171  92 351 103 177 119  97 103  62 \n"
     ]
    }
   ],
   "source": [
    "from nltk.corpus import udhr\n",
    "\n",
    "languages = ['Chickasaw', 'English', 'German_Deutsch', 'Greenlandic_Inuktikut']\n",
    "cfd = nltk.ConditionalFreqDist(\n",
    "    (lang, len(word))\n",
    "    for lang in languages\n",
    "    for word in udhr.words(lang + '-Latin1'))\n",
    "cfd.tabulate(conditions=['English', 'German_Deutsch'], samples=range(10), cumulative=False)"
   ]
  },
  {
   "cell_type": "markdown",
   "metadata": {},
   "source": [
    "### Generating Random Text with Bigrams:"
   ]
  },
  {
   "cell_type": "code",
   "execution_count": 12,
   "metadata": {
    "scrolled": true
   },
   "outputs": [
    {
     "data": {
      "text/plain": [
       "[('In', 'the'),\n",
       " ('the', 'beginning'),\n",
       " ('beginning', 'God'),\n",
       " ('God', 'created'),\n",
       " ('created', 'the'),\n",
       " ('the', 'heaven'),\n",
       " ('heaven', 'and'),\n",
       " ('and', 'the'),\n",
       " ('the', 'earth'),\n",
       " ('earth', '.')]"
      ]
     },
     "execution_count": 12,
     "metadata": {},
     "output_type": "execute_result"
    }
   ],
   "source": [
    "sent = ['In', 'the', 'beginning', 'God', 'created', 'the', 'heaven', 'and', 'the', 'earth', '.']\n",
    "list(nltk.bigrams(sent))"
   ]
  },
  {
   "cell_type": "code",
   "execution_count": 13,
   "metadata": {},
   "outputs": [],
   "source": [
    "def generate_model(cfd, word, num=15):\n",
    "    for i in range(num):\n",
    "        print(word, end=' ')\n",
    "        word = cfd[word].max()\n",
    "        \n",
    "text = nltk.corpus.genesis.words('english-kjv.txt')\n",
    "bigrams = nltk.bigrams(text)\n",
    "cfd = nltk.ConditionalFreqDist(bigrams)"
   ]
  },
  {
   "cell_type": "code",
   "execution_count": 14,
   "metadata": {},
   "outputs": [
    {
     "data": {
      "text/plain": [
       "'said'"
      ]
     },
     "execution_count": 14,
     "metadata": {},
     "output_type": "execute_result"
    }
   ],
   "source": [
    "cfd['he'].max()"
   ]
  },
  {
   "cell_type": "code",
   "execution_count": 15,
   "metadata": {},
   "outputs": [
    {
     "name": "stdout",
     "output_type": "stream",
     "text": [
      "living creature that he said , and the land of the land of the land "
     ]
    }
   ],
   "source": [
    "generate_model(cfd, 'living')"
   ]
  },
  {
   "cell_type": "markdown",
   "metadata": {},
   "source": [
    "### Solving word puzzles:"
   ]
  },
  {
   "cell_type": "code",
   "execution_count": 16,
   "metadata": {},
   "outputs": [
    {
     "data": {
      "image/png": "[encoded data removed]",
      "text/plain": [
       "<Figure size 432x288 with 1 Axes>"
      ]
     },
     "metadata": {
      "needs_background": "light"
     },
     "output_type": "display_data"
    }
   ],
   "source": [
    "import nltk\n",
    "import matplotlib.pyplot as plt\n",
    "\n",
    "puzzle_letters = nltk.FreqDist('egivrvonl')\n",
    "puzzle_letters.plot()\n",
    "plt.show()"
   ]
  },
  {
   "cell_type": "code",
   "execution_count": 17,
   "metadata": {},
   "outputs": [
    {
     "name": "stdout",
     "output_type": "stream",
     "text": [
      "['glover', 'gorlin', 'govern', 'grovel', 'ignore', 'involver', 'lienor', 'linger', 'longer', 'lovering', 'noiler', 'overling', 'region', 'renvoi', 'revolving', 'ringle', 'roving', 'violer', 'virole']\n"
     ]
    }
   ],
   "source": [
    "obligatory = 'r'\n",
    "wordlist = nltk.corpus.words.words()\n",
    "puzzle_solution = [w for w in wordlist if len(w) >= 6\n",
    "                                        and obligatory in w\n",
    "                                        and nltk.FreqDist(w) <= puzzle_letters]\n",
    "print(puzzle_solution)"
   ]
  },
  {
   "cell_type": "markdown",
   "metadata": {},
   "source": [
    "### Name list:"
   ]
  },
  {
   "cell_type": "code",
   "execution_count": 18,
   "metadata": {},
   "outputs": [
    {
     "data": {
      "text/plain": [
       "['female.txt', 'male.txt']"
      ]
     },
     "execution_count": 18,
     "metadata": {},
     "output_type": "execute_result"
    }
   ],
   "source": [
    "names = nltk.corpus.names\n",
    "names.fileids()"
   ]
  },
  {
   "cell_type": "code",
   "execution_count": 19,
   "metadata": {},
   "outputs": [
    {
     "name": "stdout",
     "output_type": "stream",
     "text": [
      "['Abbey', 'Abbie', 'Abby', 'Addie', 'Adrian', 'Adrien', 'Ajay', 'Alex', 'Alexis', 'Alfie', 'Ali', 'Alix', 'Allie', 'Allyn', 'Andie', 'Andrea', 'Andy', 'Angel', 'Angie', 'Ariel']\n"
     ]
    }
   ],
   "source": [
    "male_names = names.words('male.txt')\n",
    "female_names = names.words('female.txt')\n",
    "print([w for w in male_names if w in female_names][:20])"
   ]
  },
  {
   "cell_type": "code",
   "execution_count": 20,
   "metadata": {},
   "outputs": [
    {
     "data": {
      "image/png": "[encoded data removed]",
      "text/plain": [
       "<Figure size 432x288 with 1 Axes>"
      ]
     },
     "metadata": {
      "needs_background": "light"
     },
     "output_type": "display_data"
    }
   ],
   "source": [
    "cfd = nltk.ConditionalFreqDist(\n",
    "            (fileid, name[-1])\n",
    "            for fileid in names.fileids()\n",
    "            for name in names.words(fileid))\n",
    "cfd.plot()\n",
    "plt.show()"
   ]
  },
  {
   "cell_type": "markdown",
   "metadata": {},
   "source": [
    "### Pronunciation guide:"
   ]
  },
  {
   "cell_type": "code",
   "execution_count": 21,
   "metadata": {},
   "outputs": [
    {
     "data": {
      "text/plain": [
       "133737"
      ]
     },
     "execution_count": 21,
     "metadata": {},
     "output_type": "execute_result"
    }
   ],
   "source": [
    "# CMU Pronouncing Dictionary  \n",
    "\n",
    "entries = nltk.corpus.cmudict.entries()\n",
    "len(entries)"
   ]
  },
  {
   "cell_type": "code",
   "execution_count": 22,
   "metadata": {
    "scrolled": true
   },
   "outputs": [
    {
     "name": "stdout",
     "output_type": "stream",
     "text": [
      "('addicted', ['AH0', 'D', 'IH1', 'K', 'T', 'IH0', 'D'])\n",
      "('addicting', ['AH0', 'D', 'IH1', 'K', 'T', 'IH0', 'NG'])\n",
      "('addiction', ['AH0', 'D', 'IH1', 'K', 'SH', 'AH0', 'N'])\n",
      "('addictions', ['AH0', 'D', 'IH1', 'K', 'SH', 'AH0', 'N', 'Z'])\n",
      "('addictive', ['AH0', 'D', 'IH1', 'K', 'T', 'IH0', 'V'])\n",
      "('addicts', ['AH0', 'D', 'IH1', 'K', 'T', 'S'])\n",
      "('addicts', ['AE1', 'D', 'IH2', 'K', 'T', 'S'])\n",
      "('addidas', ['AH0', 'D', 'IY1', 'D', 'AH0', 'S'])\n",
      "(\"addidas'\", ['AH0', 'D', 'IY1', 'D', 'AH0', 'S'])\n",
      "('addidases', ['AH0', 'D', 'IY1', 'D', 'AH0', 'S', 'IH0', 'Z'])\n"
     ]
    }
   ],
   "source": [
    "# Returning CMUdict entries\n",
    "\n",
    "for entry in entries[990:1000]:\n",
    "    print(entry)"
   ]
  },
  {
   "cell_type": "code",
   "execution_count": 23,
   "metadata": {
    "scrolled": false
   },
   "outputs": [
    {
     "name": "stdout",
     "output_type": "stream",
     "text": [
      "pait EY1 pat AE1 pate EY1 patt AE1 peart ER1 peat IY1 peet IY1 peete IY1 pert ER1 pet EH1 pete IY1 pett EH1 piet IY1 piette IY1 pit IH1 pitt IH1 pot AA1 pote OW1 pott AA1 pout AW1 puett UW1 purt ER1 put UH1 putt AH1 "
     ]
    }
   ],
   "source": [
    "# Finding entries by phone length and individual phonemes\n",
    "\n",
    "for word, pron in entries:\n",
    "    if len(pron) == 3:\n",
    "        ph1, ph2, ph3 = pron # assigns contents of pron to three new variables\n",
    "        if ph1 == 'P' and ph3 == 'T':\n",
    "            print(word, ph2, end = ' ')"
   ]
  },
  {
   "cell_type": "code",
   "execution_count": 24,
   "metadata": {},
   "outputs": [
    {
     "name": "stdout",
     "output_type": "stream",
     "text": [
      "[\"atlantic's\", 'audiotronics', 'avionics', 'beatniks', 'calisthenics', 'centronics', 'chamonix', 'chetniks', \"clinic's\", 'clinics', 'conics', 'conics', 'cryogenics', 'cynics', 'diasonics', \"dominic's\", 'ebonics', 'electronics', \"electronics'\", \"endotronics'\", 'endotronics', 'enix', 'environics', 'ethnics', 'eugenics', 'fibronics', 'flextronics', 'harmonics', 'hispanics', 'histrionics', 'identics', 'ionics', 'kibbutzniks', 'lasersonics', 'lumonics', 'mannix', 'mechanics', \"mechanics'\", 'microelectronics', 'minix', 'minnix', 'mnemonics', 'mnemonics', 'molonicks', 'mullenix', 'mullenix', 'mullinix', 'mulnix', \"munich's\", 'nucleonics', 'onyx', 'organics', \"panic's\", 'panics', 'penix', 'pennix', 'personics', 'phenix', \"philharmonic's\", 'phoenix', 'phonics', 'photronics', 'pinnix', 'plantronics', 'pyrotechnics', 'refuseniks', \"resnick's\", 'respironics', 'sconnix', 'siliconix', 'skolniks', 'sonics', 'sputniks', 'technics', 'tectonics', 'tektronix', 'telectronics', 'telephonics', 'tonics', 'unix', \"vinick's\", \"vinnick's\", 'vitronics']\n"
     ]
    }
   ],
   "source": [
    "# Finding entries by phone sequence\n",
    "\n",
    "syllable = ['N', 'IH0', 'K', 'S']\n",
    "print([word for word, pron in entries if pron[-4:] == syllable])"
   ]
  },
  {
   "cell_type": "code",
   "execution_count": 25,
   "metadata": {},
   "outputs": [
    {
     "name": "stdout",
     "output_type": "stream",
     "text": [
      "[('autumn', ['AO1', 'T', 'AH0', 'M']), ('column', ['K', 'AA1', 'L', 'AH0', 'M']), ('condemn', ['K', 'AH0', 'N', 'D', 'EH1', 'M']), ('damn', ['D', 'AE1', 'M']), ('goddamn', ['G', 'AA1', 'D', 'D', 'AE2', 'M']), ('hymn', ['HH', 'IH1', 'M']), ('solemn', ['S', 'AA1', 'L', 'AH0', 'M'])]\n"
     ]
    }
   ],
   "source": [
    "# Finding entries by letter and phoneme values at fixed positions\n",
    "\n",
    "print([(word, pron) for word, pron in entries if pron[-1] == 'M' and word[-1] == 'n'])"
   ]
  },
  {
   "cell_type": "code",
   "execution_count": 26,
   "metadata": {},
   "outputs": [
    {
     "data": {
      "text/plain": [
       "['abbreviated',\n",
       " 'abbreviated',\n",
       " 'abbreviating',\n",
       " 'accelerated',\n",
       " 'accelerating',\n",
       " 'accelerator',\n",
       " 'accelerators',\n",
       " 'accentuated',\n",
       " 'accentuating',\n",
       " 'accommodated']"
      ]
     },
     "execution_count": 26,
     "metadata": {},
     "output_type": "execute_result"
    }
   ],
   "source": [
    "# Extracintg stress pattern using nested for loop shorthand\n",
    "\n",
    "def stress(pron):\n",
    "    return [char for phone in pron for char in phone if char.isdigit()] # whatever is in front of 1st FOR statement\n",
    "                                                                        # is dded to the list\n",
    "\n",
    "[w for w, pron in entries if stress(pron) == ['0', '1', '0', '2', '0']][:10]\n",
    "\n",
    "#[x for x, y in entries if stress(y) == ['0', '1', '0', '2', '0']]"
   ]
  },
  {
   "cell_type": "code",
   "execution_count": 27,
   "metadata": {},
   "outputs": [
    {
     "name": "stdout",
     "output_type": "stream",
     "text": [
      "['A', 'B', 'C', 'D']\n"
     ]
    },
    {
     "data": {
      "text/plain": [
       "['A', 'B', 'C', 'D']"
      ]
     },
     "execution_count": 27,
     "metadata": {},
     "output_type": "execute_result"
    }
   ],
   "source": [
    "# Simplfied inline nested for loop analyis\n",
    "\n",
    "list_source = ['AB', 'CD']\n",
    "\n",
    "list_dest = []\n",
    "\n",
    "for w in list_source:\n",
    "    for char in w:\n",
    "        list_dest.append(char)\n",
    "\n",
    "print(list_dest)        \n",
    "\n",
    "[char for w in list_source for char in w]"
   ]
  },
  {
   "cell_type": "code",
   "execution_count": 28,
   "metadata": {},
   "outputs": [
    {
     "name": "stdout",
     "output_type": "stream",
     "text": [
      "P-CH patch pautsch peach perch petsch petsche piche piech pietsch pitch pit...\n",
      "P-K pac pack paek paik pak pake paque peak peake pech peck peek perc perk ...\n",
      "P-L pahl pail paille pal pale pall paul paule paull peal peale pearl pearl...\n",
      "P-N paign pain paine pan pane pawn payne peine pen penh penn pin pine pinn...\n",
      "P-P paap paape pap pape papp paup peep pep pip pipe pipp poop pop pope pop...\n",
      "P-R paar pair par pare parr pear peer pier poor poore por pore porr pour...\n",
      "P-S pace pass pasts peace pearse pease perce pers perse pesce piece piss p...\n",
      "P-T pait pat pate patt peart peat peet peete pert pet pete pett piet piett...\n",
      "P-UW1 peru peugh pew plew plue prew pru prue prugh pshew pugh...\n",
      "P-Z p's p.'s p.s pais paiz pao's pas pause paws pays paz peas pease pei's ...\n"
     ]
    }
   ],
   "source": [
    "# Finding simlar words where changing one phone results in a change in meaning\n",
    "\n",
    "p3 = [(pron[0]+'-'+pron[2], word)\n",
    "      for word, pron in entries\n",
    "      if pron[0] == 'P' and len(pron) == 3]\n",
    "\n",
    "cfd = nltk.ConditionalFreqDist(p3)\n",
    "for template in sorted(cfd.conditions()):\n",
    "    if len(cfd[template]) > 10:\n",
    "        words = sorted(cfd[template])\n",
    "        wordstring = ' '.join(words)\n",
    "        print(template, wordstring[:70] + '...')"
   ]
  },
  {
   "cell_type": "code",
   "execution_count": 29,
   "metadata": {},
   "outputs": [
    {
     "name": "stdout",
     "output_type": "stream",
     "text": [
      "['P-AA1', 'P-AH0', 'P-AW1', 'P-AY1', 'P-B', 'P-CH', 'P-D', 'P-ER0', 'P-ER1', 'P-EY1', 'P-F', 'P-G', 'P-IY0', 'P-IY1', 'P-JH', 'P-K', 'P-L', 'P-M', 'P-N', 'P-NG', 'P-OW0', 'P-OW1', 'P-OY1', 'P-P', 'P-R', 'P-S', 'P-SH', 'P-T', 'P-TH', 'P-UW1', 'P-V', 'P-Z']\n",
      "['pahl', 'pail', 'paille', 'pal', 'pale', 'pall', 'paul', 'paule', 'paull', 'peal', 'peale', 'pearl', 'pearle', 'peel', 'peele', 'pehl', 'peil', 'pell', 'pelle', 'perl', 'perle', 'piehl', 'piel', 'pihl', 'pil', 'pile', 'pill', 'pille', 'poehl', 'pohl', 'pol', 'pole', 'poll', 'pool', 'poole', 'poul', 'puhl', 'pull', 'pyle']\n"
     ]
    }
   ],
   "source": [
    "# Find a list of individual entries for a specific condition\n",
    "\n",
    "print(sorted(cfd.conditions()))\n",
    "word = sorted(cfd['P-L'])\n",
    "print(word)"
   ]
  },
  {
   "cell_type": "code",
   "execution_count": 30,
   "metadata": {
    "scrolled": true
   },
   "outputs": [
    {
     "data": {
      "text/plain": [
       "[('pasts', ['P', 'AE1', 'S', 'T', 'S']),\n",
       " ('pasts', ['P', 'AE1', 'S', 'S']),\n",
       " ('pasts', ['P', 'AE1', 'S'])]"
      ]
     },
     "execution_count": 30,
     "metadata": {},
     "output_type": "execute_result"
    }
   ],
   "source": [
    "# Find phones (phonemes) for a specific word\n",
    "\n",
    "[(x, y) for x, y in entries if x == 'pasts'] "
   ]
  },
  {
   "cell_type": "code",
   "execution_count": 31,
   "metadata": {},
   "outputs": [
    {
     "data": {
      "text/plain": [
       "[['B', 'L', 'AA1', 'G']]"
      ]
     },
     "execution_count": 31,
     "metadata": {},
     "output_type": "execute_result"
    }
   ],
   "source": [
    "# More efficient method of returning phones (phonemes) for a specific word\n",
    "\n",
    "prondict = nltk.corpus.cmudict.dict()\n",
    "prondict['fire']\n",
    "prondict['blog'] = [['B', 'L', 'AA1', 'G']] # Adding new dict item\n",
    "prondict['blog']"
   ]
  },
  {
   "cell_type": "code",
   "execution_count": 32,
   "metadata": {},
   "outputs": [
    {
     "name": "stdout",
     "output_type": "stream",
     "text": [
      "['N', 'AE1', 'CH', 'ER0', 'AH0', 'L', 'L', 'AE1', 'NG', 'G', 'W', 'AH0', 'JH', 'P', 'R', 'AA1', 'S', 'EH0', 'S', 'IH0', 'NG']\n"
     ]
    }
   ],
   "source": [
    "# Extract phonemes for a sequence of words\n",
    "\n",
    "text = ['natural', 'language', 'processing']\n",
    "print([ph for w in text for ph in prondict[w][0]])"
   ]
  },
  {
   "cell_type": "markdown",
   "metadata": {},
   "source": [
    "### Comparative Wordlists:"
   ]
  },
  {
   "cell_type": "code",
   "execution_count": 33,
   "metadata": {},
   "outputs": [
    {
     "name": "stdout",
     "output_type": "stream",
     "text": [
      "['be', 'bg', 'bs', 'ca', 'cs', 'cu', 'de', 'en', 'es', 'fr', 'hr', 'it', 'la', 'mk', 'nl', 'pl', 'pt', 'ro', 'ru', 'sk', 'sl', 'sr', 'sw', 'uk']\n"
     ]
    }
   ],
   "source": [
    "# Show all available languages\n",
    "\n",
    "from nltk.corpus import swadesh\n",
    "print(swadesh.fileids())"
   ]
  },
  {
   "cell_type": "code",
   "execution_count": 34,
   "metadata": {
    "scrolled": true
   },
   "outputs": [
    {
     "name": "stdout",
     "output_type": "stream",
     "text": [
      "['I', 'you (singular), thou', 'he', 'we', 'you (plural)', 'they', 'this', 'that', 'here', 'there']\n"
     ]
    }
   ],
   "source": [
    "# Show first ten words in english\n",
    "\n",
    "print(swadesh.words('en')[:10])"
   ]
  },
  {
   "cell_type": "code",
   "execution_count": 35,
   "metadata": {},
   "outputs": [
    {
     "name": "stdout",
     "output_type": "stream",
     "text": [
      "[('je', 'I'), ('tu, vous', 'you (singular), thou'), ('il', 'he'), ('nous', 'we'), ('vous', 'you (plural)'), ('ils, elles', 'they'), ('ceci', 'this'), ('cela', 'that'), ('ici', 'here'), ('là', 'there')]\n"
     ]
    }
   ],
   "source": [
    "# Create French ==> English dictionary\n",
    "\n",
    "fr2en = swadesh.entries(['fr', 'en']) # list of tuples\n",
    "print(fr2en[:10])"
   ]
  },
  {
   "cell_type": "code",
   "execution_count": 36,
   "metadata": {},
   "outputs": [
    {
     "data": {
      "text/plain": [
       "'some'"
      ]
     },
     "execution_count": 36,
     "metadata": {},
     "output_type": "execute_result"
    }
   ],
   "source": [
    "# Translate from French\n",
    "\n",
    "translate = dict(fr2en)\n",
    "translate['quelques']"
   ]
  },
  {
   "cell_type": "code",
   "execution_count": 37,
   "metadata": {},
   "outputs": [
    {
     "data": {
      "text/plain": [
       "'I'"
      ]
     },
     "execution_count": 37,
     "metadata": {},
     "output_type": "execute_result"
    }
   ],
   "source": [
    "# Add German to dictionary\n",
    "\n",
    "de2en = swadesh.entries(['de', 'en']) # list of tuples\n",
    "translate.update(dict(de2en))\n",
    "translate['ich']"
   ]
  },
  {
   "cell_type": "code",
   "execution_count": 38,
   "metadata": {},
   "outputs": [
    {
     "name": "stdout",
     "output_type": "stream",
     "text": [
      "('walk', 'gehen', 'lopen, stappen', 'caminar', 'marcher', 'andar, caminhar, passear', 'gradi')\n",
      "('what', 'was', 'wat', 'que', 'quoi', 'que, o que', 'quid')\n",
      "('flow', 'fließen', 'vloeien', 'fluir', 'couler', 'fluir', 'fluere')\n"
     ]
    }
   ],
   "source": [
    "# Comparing words in various Germanic and Romance languages\n",
    "\n",
    "languages = ['en', 'de', 'nl', 'es', 'fr', 'pt', 'la']\n",
    "for i in [120, 11, 143]:\n",
    "    print(swadesh.entries(languages)[i]) # check how to add language code next to each word"
   ]
  },
  {
   "cell_type": "markdown",
   "metadata": {},
   "source": [
    "### Shoebox and Toolbox Lexicons:"
   ]
  },
  {
   "cell_type": "code",
   "execution_count": 39,
   "metadata": {},
   "outputs": [
    {
     "data": {
      "text/plain": [
       "[('kaa',\n",
       "  [('ps', 'V'),\n",
       "   ('pt', 'A'),\n",
       "   ('ge', 'gag'),\n",
       "   ('tkp', 'nek i pas'),\n",
       "   ('dcsv', 'true'),\n",
       "   ('vx', '1'),\n",
       "   ('sc', '???'),\n",
       "   ('dt', '29/Oct/2005'),\n",
       "   ('ex', 'Apoka ira kaaroi aioa-ia reoreopaoro.'),\n",
       "   ('xp', 'Kaikai i pas long nek bilong Apoka bikos em i kaikai na toktok.'),\n",
       "   ('xe', 'Apoka is gagging from food while talking.')])]"
      ]
     },
     "execution_count": 39,
     "metadata": {},
     "output_type": "execute_result"
    }
   ],
   "source": [
    "# Import toolbox and return a set of attribute-value pairs for a set of words\n",
    "\n",
    "from nltk.corpus import toolbox\n",
    "toolbox.entries('rotokas.dic')[:1] # ge - gloss-into-English, ps - part of speech"
   ]
  },
  {
   "cell_type": "markdown",
   "metadata": {},
   "source": [
    "### WordNet:"
   ]
  },
  {
   "cell_type": "code",
   "execution_count": 40,
   "metadata": {},
   "outputs": [],
   "source": [
    "# Check in how many synonym sets a word is\n",
    "\n",
    "from nltk.corpus import wordnet as wn\n",
    "\n",
    "#wn.synsets('car') # synset or \"synonym set\""
   ]
  },
  {
   "cell_type": "markdown",
   "metadata": {},
   "source": [
    "##### Return lemma names: "
   ]
  },
  {
   "cell_type": "code",
   "execution_count": 41,
   "metadata": {},
   "outputs": [
    {
     "data": {
      "text/plain": [
       "['car', 'railcar', 'railway_car', 'railroad_car']"
      ]
     },
     "execution_count": 41,
     "metadata": {},
     "output_type": "execute_result"
    }
   ],
   "source": [
    "# Return values of a synonym set\n",
    "\n",
    "wn.synset('car.n.02').lemma_names() # the first word in a set is lemma"
   ]
  },
  {
   "cell_type": "markdown",
   "metadata": {},
   "source": [
    "##### Return headword sense definitions and examples:"
   ]
  },
  {
   "cell_type": "code",
   "execution_count": 42,
   "metadata": {
    "scrolled": true
   },
   "outputs": [
    {
     "data": {
      "text/plain": [
       "('a wheeled vehicle adapted to the rails of railroad',\n",
       " ['three cars had jumped the rails'])"
      ]
     },
     "execution_count": 42,
     "metadata": {},
     "output_type": "execute_result"
    }
   ],
   "source": [
    "# Synset definition and examples\n",
    "\n",
    "wn.synset('car.n.02').definition(), wn.synset('car.n.02').examples()"
   ]
  },
  {
   "cell_type": "markdown",
   "metadata": {},
   "source": [
    "##### Returna synset lemma pairs:"
   ]
  },
  {
   "cell_type": "code",
   "execution_count": 43,
   "metadata": {},
   "outputs": [
    {
     "name": "stdout",
     "output_type": "stream",
     "text": [
      "[Lemma('car.n.02.car'), Lemma('car.n.02.railcar'), Lemma('car.n.02.railway_car'), Lemma('car.n.02.railroad_car')]\n"
     ]
    }
   ],
   "source": [
    "print(wn.synset('car.n.02').lemmas())"
   ]
  },
  {
   "cell_type": "markdown",
   "metadata": {},
   "source": [
    "##### Various ways of returning individual synset and lemma components:"
   ]
  },
  {
   "cell_type": "code",
   "execution_count": 44,
   "metadata": {
    "scrolled": true
   },
   "outputs": [
    {
     "data": {
      "text/plain": [
       "Lemma('car.n.02.railcar')"
      ]
     },
     "execution_count": 44,
     "metadata": {},
     "output_type": "execute_result"
    }
   ],
   "source": [
    "wn.lemma('car.n.02.railcar')"
   ]
  },
  {
   "cell_type": "code",
   "execution_count": 45,
   "metadata": {},
   "outputs": [
    {
     "data": {
      "text/plain": [
       "Synset('car.n.02')"
      ]
     },
     "execution_count": 45,
     "metadata": {},
     "output_type": "execute_result"
    }
   ],
   "source": [
    "wn.lemma('car.n.02.railcar').synset()"
   ]
  },
  {
   "cell_type": "code",
   "execution_count": 46,
   "metadata": {},
   "outputs": [
    {
     "data": {
      "text/plain": [
       "'railcar'"
      ]
     },
     "execution_count": 46,
     "metadata": {},
     "output_type": "execute_result"
    }
   ],
   "source": [
    "wn.lemma('car.n.02.railcar').name()"
   ]
  },
  {
   "cell_type": "code",
   "execution_count": 47,
   "metadata": {},
   "outputs": [
    {
     "name": "stdout",
     "output_type": "stream",
     "text": [
      "['dog', 'domestic_dog', 'Canis_familiaris']\n",
      "['frump', 'dog']\n",
      "['dog']\n",
      "['cad', 'bounder', 'blackguard', 'dog', 'hound', 'heel']\n",
      "['frank', 'frankfurter', 'hotdog', 'hot_dog', 'dog', 'wiener', 'wienerwurst', 'weenie']\n",
      "['pawl', 'detent', 'click', 'dog']\n",
      "['andiron', 'firedog', 'dog', 'dog-iron']\n",
      "['chase', 'chase_after', 'trail', 'tail', 'tag', 'give_chase', 'dog', 'go_after', 'track']\n"
     ]
    }
   ],
   "source": [
    "for synset in wn.synsets('dog'):\n",
    "    print(synset.lemma_names())"
   ]
  },
  {
   "cell_type": "code",
   "execution_count": 48,
   "metadata": {},
   "outputs": [
    {
     "data": {
      "text/plain": [
       "[Lemma('day.n.01.day'),\n",
       " Lemma('day.n.02.day'),\n",
       " Lemma('day.n.03.day'),\n",
       " Lemma('day.n.04.day'),\n",
       " Lemma('day.n.05.day'),\n",
       " Lemma('day.n.06.day'),\n",
       " Lemma('day.n.07.day'),\n",
       " Lemma('sidereal_day.n.01.day'),\n",
       " Lemma('day.n.09.day'),\n",
       " Lemma('day.n.10.Day')]"
      ]
     },
     "execution_count": 48,
     "metadata": {},
     "output_type": "execute_result"
    }
   ],
   "source": [
    "wn.lemmas('day')"
   ]
  },
  {
   "cell_type": "markdown",
   "metadata": {},
   "source": [
    "#### Hyponims:"
   ]
  },
  {
   "cell_type": "code",
   "execution_count": 49,
   "metadata": {},
   "outputs": [
    {
     "name": "stdout",
     "output_type": "stream",
     "text": [
      "[Synset('ambulance.n.01'), Synset('beach_wagon.n.01'), Synset('bus.n.04'), Synset('cab.n.03'), Synset('compact.n.03'), Synset('convertible.n.01'), Synset('coupe.n.01'), Synset('cruiser.n.01'), Synset('electric.n.01'), Synset('gas_guzzler.n.01'), Synset('hardtop.n.01'), Synset('hatchback.n.01'), Synset('horseless_carriage.n.01'), Synset('hot_rod.n.01'), Synset('jeep.n.01'), Synset('limousine.n.01'), Synset('loaner.n.02'), Synset('minicar.n.01'), Synset('minivan.n.01'), Synset('model_t.n.01'), Synset('pace_car.n.01'), Synset('racer.n.02'), Synset('roadster.n.01'), Synset('sedan.n.01'), Synset('sport_utility.n.01'), Synset('sports_car.n.01'), Synset('stanley_steamer.n.01'), Synset('stock_car.n.01'), Synset('subcompact.n.01'), Synset('touring_car.n.01'), Synset('used-car.n.01')]\n"
     ]
    }
   ],
   "source": [
    "# Navigating between concepts\n",
    "\n",
    "motorcar = wn.synset('car.n.01')\n",
    "types_of_motorcar = motorcar.hyponyms()\n",
    "print(types_of_motorcar)"
   ]
  },
  {
   "cell_type": "code",
   "execution_count": 50,
   "metadata": {},
   "outputs": [
    {
     "name": "stdout",
     "output_type": "stream",
     "text": [
      "['Model_T', 'S.U.V.', 'SUV', 'Stanley_Steamer', 'ambulance', 'beach_waggon', 'beach_wagon', 'bus', 'cab', 'compact', 'compact_car', 'convertible', 'coupe', 'cruiser', 'electric', 'electric_automobile', 'electric_car', 'estate_car', 'gas_guzzler', 'hack', 'hardtop', 'hatchback', 'heap', 'horseless_carriage', 'hot-rod', 'hot_rod', 'jalopy', 'jeep', 'landrover', 'limo', 'limousine', 'loaner', 'minicar', 'minivan', 'pace_car', 'patrol_car', 'phaeton', 'police_car', 'police_cruiser', 'prowl_car', 'race_car', 'racer', 'racing_car', 'roadster', 'runabout', 'saloon', 'secondhand_car', 'sedan', 'sport_car', 'sport_utility', 'sport_utility_vehicle', 'sports_car', 'squad_car', 'station_waggon', 'station_wagon', 'stock_car', 'subcompact', 'subcompact_car', 'taxi', 'taxicab', 'tourer', 'touring_car', 'two-seater', 'used-car', 'waggon', 'wagon']\n"
     ]
    }
   ],
   "source": [
    "#print(sorted(lemma.name() for synset in types_of_motorcar for lemma in synset.lemmas()))\n",
    "print(sorted(set(y.name() for x in types_of_motorcar for y in x.lemmas())))"
   ]
  },
  {
   "cell_type": "code",
   "execution_count": 51,
   "metadata": {},
   "outputs": [
    {
     "name": "stdout",
     "output_type": "stream",
     "text": [
      "a dish that is round and open at the top for serving foods\n",
      "a small dish (often with a cover) for holding butter at the table\n",
      "large deep dish in which food can be cooked and served\n",
      "a dish in the form of a scallop shell\n",
      "a dish (often boat-shaped) for serving gravy or sauce\n",
      "a shallow dish used to culture bacteria\n",
      "a small fireproof dish used for baking and serving individual portions\n",
      "a dish used for serving food\n",
      "a dish in which sugar is served\n",
      "laboratory glassware; a shallow glass dish used as an evaporating surface or to cover a beaker\n",
      "\n",
      " ['bowl', 'butter_dish', 'casserole', 'coquille', 'gravy_boat', 'gravy_holder', 'sauceboat', 'boat', 'Petri_dish', 'ramekin', 'ramequin', 'serving_dish', 'sugar_bowl', 'watch_glass']\n"
     ]
    }
   ],
   "source": [
    "# Various senses of the word 'dish'\n",
    "\n",
    "dish = wn.synset('dish.n.01')\n",
    "types_of_dishes = dish.hyponyms()\n",
    "names = []\n",
    "\n",
    "for x in types_of_dishes:\n",
    "    print(x.definition())\n",
    "    for y in x.lemmas():\n",
    "        names.append(y.name())\n",
    "        \n",
    "print('\\n', names)"
   ]
  },
  {
   "cell_type": "markdown",
   "metadata": {},
   "source": [
    "#### Hypernyms:"
   ]
  },
  {
   "cell_type": "code",
   "execution_count": 52,
   "metadata": {
    "scrolled": true
   },
   "outputs": [
    {
     "data": {
      "text/plain": [
       "2"
      ]
     },
     "execution_count": 52,
     "metadata": {},
     "output_type": "execute_result"
    }
   ],
   "source": [
    "dish.hypernyms()\n",
    "paths = dish.hypernym_paths()\n",
    "len(paths)"
   ]
  },
  {
   "cell_type": "code",
   "execution_count": 53,
   "metadata": {},
   "outputs": [
    {
     "name": "stdout",
     "output_type": "stream",
     "text": [
      "['entity', 'physical_entity', 'object', 'physical_object', 'whole', 'unit', 'artifact', 'artefact', 'instrumentality', 'instrumentation', 'container', 'dish']\n",
      "['entity', 'physical_entity', 'object', 'physical_object', 'whole', 'unit', 'artifact', 'artefact', 'article', 'ware', 'tableware', 'crockery', 'dishware', 'dish']\n"
     ]
    }
   ],
   "source": [
    "print([y.name() for x in paths[0] for y in x.lemmas()])\n",
    "print([y.name() for x in paths[1] for y in x.lemmas()])"
   ]
  },
  {
   "cell_type": "code",
   "execution_count": 54,
   "metadata": {},
   "outputs": [
    {
     "data": {
      "text/plain": [
       "[Synset('entity.n.01')]"
      ]
     },
     "execution_count": 54,
     "metadata": {},
     "output_type": "execute_result"
    }
   ],
   "source": [
    "dish.root_hypernyms()"
   ]
  },
  {
   "cell_type": "code",
   "execution_count": 55,
   "metadata": {},
   "outputs": [],
   "source": [
    "#nltk.app.wordnet_app.wnb()"
   ]
  },
  {
   "cell_type": "markdown",
   "metadata": {},
   "source": [
    "#### Meronyms and holonyms:"
   ]
  },
  {
   "cell_type": "code",
   "execution_count": 56,
   "metadata": {},
   "outputs": [
    {
     "name": "stdout",
     "output_type": "stream",
     "text": [
      "[Synset('burl.n.02'), Synset('crown.n.07'), Synset('limb.n.02'), Synset('stump.n.01'), Synset('trunk.n.01')]\n"
     ]
    }
   ],
   "source": [
    "print(wn.synset('tree.n.01').part_meronyms()) # part of tree"
   ]
  },
  {
   "cell_type": "code",
   "execution_count": 57,
   "metadata": {},
   "outputs": [
    {
     "name": "stdout",
     "output_type": "stream",
     "text": [
      "[Synset('heartwood.n.01'), Synset('sapwood.n.01')]\n"
     ]
    }
   ],
   "source": [
    "print(wn.synset('tree.n.01').substance_meronyms()) # what a tree is made off"
   ]
  },
  {
   "cell_type": "code",
   "execution_count": 58,
   "metadata": {},
   "outputs": [
    {
     "name": "stdout",
     "output_type": "stream",
     "text": [
      "[Synset('forest.n.01')]\n"
     ]
    }
   ],
   "source": [
    "print(wn.synset('tree.n.01').member_holonyms())"
   ]
  },
  {
   "cell_type": "code",
   "execution_count": 59,
   "metadata": {},
   "outputs": [
    {
     "name": "stdout",
     "output_type": "stream",
     "text": [
      "batch.n.02: (often followed by `of') a large number or amount or extent\n",
      "mint.n.02: any north temperate plant of the genus Mentha with aromatic leaves and small mauve flowers\n",
      "mint.n.03: any member of the mint family of plants\n",
      "mint.n.04: the leaves of a mint plant used fresh or candied\n",
      "mint.n.05: a candy that is flavored with a mint oil\n",
      "mint.n.06: a plant where money is coined by authority of the government\n"
     ]
    }
   ],
   "source": [
    "for x in wn.synsets('mint', wn.NOUN):\n",
    "    print(x.name() + ':', x.definition())"
   ]
  },
  {
   "cell_type": "markdown",
   "metadata": {},
   "source": [
    "**Mint leaves are part of a mint tree as a *part meronym* and part of a candy as *substance meronym*:** \n",
    "<br><br> We've got part and substance meronyms/ holonyms as well as member_holonyms (a collection of things, e.g. a *forest* is a member holonym of a *tree*)"
   ]
  },
  {
   "cell_type": "code",
   "execution_count": 60,
   "metadata": {},
   "outputs": [
    {
     "data": {
      "text/plain": [
       "[Synset('mint.n.05')]"
      ]
     },
     "execution_count": 60,
     "metadata": {},
     "output_type": "execute_result"
    }
   ],
   "source": [
    "wn.synset('mint.n.04').substance_holonyms() # mint.n.05 is a substance holonym of mint.n.04a"
   ]
  },
  {
   "cell_type": "code",
   "execution_count": 61,
   "metadata": {
    "scrolled": false
   },
   "outputs": [
    {
     "name": "stdout",
     "output_type": "stream",
     "text": [
      "[Synset('mint.n.02')]\n"
     ]
    },
    {
     "data": {
      "text/plain": [
       "('mentha.n.01', 'mint plants', ['Mentha', 'genus_Mentha'])"
      ]
     },
     "execution_count": 61,
     "metadata": {},
     "output_type": "execute_result"
    }
   ],
   "source": [
    "print(wn.synset('mint.n.04').part_holonyms()) # mint.n.02 is a part holonym of mint.n.04 \n",
    "\n",
    "x = wn.synset('mint.n.02').member_holonyms()\n",
    "x = x[0]\n",
    "x.name(), x.definition(), x.lemma_names()"
   ]
  },
  {
   "cell_type": "markdown",
   "metadata": {},
   "source": [
    "##### Verb entailment:"
   ]
  },
  {
   "cell_type": "code",
   "execution_count": 62,
   "metadata": {},
   "outputs": [
    {
     "data": {
      "text/plain": [
       "[Synset('chew.v.01'), Synset('swallow.v.01')]"
      ]
     },
     "execution_count": 62,
     "metadata": {},
     "output_type": "execute_result"
    }
   ],
   "source": [
    "wn.synset('eat.v.01').entailments() # swallowing and chewing is part of eating"
   ]
  },
  {
   "cell_type": "markdown",
   "metadata": {},
   "source": [
    "##### Antonyms (between lemma pairs):"
   ]
  },
  {
   "cell_type": "code",
   "execution_count": 63,
   "metadata": {},
   "outputs": [
    {
     "data": {
      "text/plain": [
       "[Lemma('vertical.a.01.vertical'), Lemma('inclined.a.02.inclined')]"
      ]
     },
     "execution_count": 63,
     "metadata": {},
     "output_type": "execute_result"
    }
   ],
   "source": [
    "wn.lemma('horizontal.a.01.horizontal').antonyms()"
   ]
  },
  {
   "cell_type": "markdown",
   "metadata": {},
   "source": [
    "##### Use dir to the see lexical relations and the other methods defined on a synset:"
   ]
  },
  {
   "cell_type": "code",
   "execution_count": 64,
   "metadata": {},
   "outputs": [
    {
     "name": "stdout",
     "output_type": "stream",
     "text": [
      "['__class__', '__delattr__', '__dict__', '__dir__', '__doc__', '__eq__', '__format__', '__ge__', '__getattribute__', '__gt__', '__hash__', '__init__', '__init_subclass__', '__le__', '__lt__', '__module__', '__ne__', '__new__', '__reduce__', '__reduce_ex__', '__repr__', '__setattr__', '__sizeof__', '__slots__', '__str__', '__subclasshook__', '__weakref__', '_all_hypernyms', '_definition', '_examples', '_frame_ids', '_hypernyms', '_instance_hypernyms', '_iter_hypernym_lists', '_lemma_names', '_lemma_pointers', '_lemmas', '_lexname', '_max_depth', '_min_depth', '_name', '_needs_root', '_offset', '_pointers', '_pos', '_related', '_shortest_hypernym_paths', '_wordnet_corpus_reader', 'also_sees', 'attributes', 'causes', 'closure', 'common_hypernyms', 'definition', 'entailments', 'examples', 'frame_ids', 'hypernym_distances', 'hypernym_paths', 'hypernyms', 'hyponyms', 'in_region_domains', 'in_topic_domains', 'in_usage_domains', 'instance_hypernyms', 'instance_hyponyms', 'jcn_similarity', 'lch_similarity', 'lemma_names', 'lemmas', 'lexname', 'lin_similarity', 'lowest_common_hypernyms', 'max_depth', 'member_holonyms', 'member_meronyms', 'min_depth', 'name', 'offset', 'part_holonyms', 'part_meronyms', 'path_similarity', 'pos', 'region_domains', 'res_similarity', 'root_hypernyms', 'shortest_path_distance', 'similar_tos', 'substance_holonyms', 'substance_meronyms', 'topic_domains', 'tree', 'usage_domains', 'verb_groups', 'wup_similarity']\n"
     ]
    }
   ],
   "source": [
    "print(dir(wn.synset('horizontal.a.01')))"
   ]
  },
  {
   "cell_type": "markdown",
   "metadata": {},
   "source": [
    "### Semantic similarity:"
   ]
  },
  {
   "cell_type": "code",
   "execution_count": 65,
   "metadata": {},
   "outputs": [
    {
     "name": "stdout",
     "output_type": "stream",
     "text": [
      "[Synset('entity.n.01'), Synset('physical_entity.n.01'), Synset('object.n.01'), Synset('whole.n.02'), Synset('living_thing.n.01'), Synset('organism.n.01'), Synset('animal.n.01'), Synset('chordate.n.01'), Synset('vertebrate.n.01'), Synset('mammal.n.01'), Synset('placental.n.01'), Synset('aquatic_mammal.n.01'), Synset('cetacean.n.01'), Synset('whale.n.02'), Synset('baleen_whale.n.01'), Synset('right_whale.n.01')]\n",
      "\n",
      "[Synset('entity.n.01'), Synset('physical_entity.n.01'), Synset('object.n.01'), Synset('whole.n.02'), Synset('living_thing.n.01'), Synset('organism.n.01'), Synset('animal.n.01'), Synset('chordate.n.01'), Synset('vertebrate.n.01'), Synset('mammal.n.01'), Synset('placental.n.01'), Synset('aquatic_mammal.n.01'), Synset('cetacean.n.01'), Synset('whale.n.02'), Synset('toothed_whale.n.01'), Synset('dolphin.n.02'), Synset('killer_whale.n.01')]\n"
     ]
    }
   ],
   "source": [
    "# Display paths\n",
    "\n",
    "print(wn.synset('right_whale.n.01').hypernym_paths()[0])\n",
    "print('\\n', wn.synset('orca.n.01').hypernym_paths()[0], sep='')"
   ]
  },
  {
   "cell_type": "code",
   "execution_count": 66,
   "metadata": {},
   "outputs": [
    {
     "data": {
      "text/plain": [
       "[Synset('vertebrate.n.01')]"
      ]
     },
     "execution_count": 66,
     "metadata": {},
     "output_type": "execute_result"
    }
   ],
   "source": [
    "# Find lowest common hypernym\n",
    "\n",
    "right = wn.synset('right_whale.n.01')\n",
    "orca = wn.synset('orca.n.01')\n",
    "minke = wn.synset('minke_whale.n.01')\n",
    "tortoise = wn.synset('tortoise.n.01')\n",
    "novel = wn.synset('novel.n.01')\n",
    "right.lowest_common_hypernyms(tortoise)"
   ]
  },
  {
   "cell_type": "code",
   "execution_count": 67,
   "metadata": {},
   "outputs": [
    {
     "data": {
      "text/plain": [
       "(14, 0)"
      ]
     },
     "execution_count": 67,
     "metadata": {},
     "output_type": "execute_result"
    }
   ],
   "source": [
    "# Compute how many hypernyms are above a synset along a hypenym path\n",
    "\n",
    "wn.synset('baleen_whale.n.01').min_depth(), wn.synset('entity.n.01').min_depth()"
   ]
  },
  {
   "cell_type": "markdown",
   "metadata": {},
   "source": [
    "##### Compute similarity scores based on the shortest path that connects the concepts in the hypernym hierarchy:"
   ]
  },
  {
   "cell_type": "code",
   "execution_count": 68,
   "metadata": {},
   "outputs": [
    {
     "data": {
      "text/plain": [
       "(0.17, 0.25)"
      ]
     },
     "execution_count": 68,
     "metadata": {},
     "output_type": "execute_result"
    }
   ],
   "source": [
    "right.path_similarity(wn.synset('car.n.01'))\n",
    "round(right.path_similarity(orca), 2), round(right.path_similarity(minke), 2)"
   ]
  },
  {
   "cell_type": "code",
   "execution_count": 70,
   "metadata": {
    "scrolled": false
   },
   "outputs": [],
   "source": [
    "#help(wn)"
   ]
  }
 ],
 "metadata": {
  "kernelspec": {
   "display_name": "Python 3",
   "language": "python",
   "name": "python3"
  },
  "language_info": {
   "codemirror_mode": {
    "name": "ipython",
    "version": 3
   },
   "file_extension": ".py",
   "mimetype": "text/x-python",
   "name": "python",
   "nbconvert_exporter": "python",
   "pygments_lexer": "ipython3",
   "version": "3.8.5"
  }
 },
 "nbformat": 4,
 "nbformat_minor": 4
}
