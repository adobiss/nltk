{
 "cells": [
  {
   "cell_type": "code",
   "execution_count": 53,
   "metadata": {},
   "outputs": [],
   "source": [
    "import nltk, re, pprint\n",
    "import pandas as pd\n",
    "import numpy as np"
   ]
  },
  {
   "cell_type": "markdown",
   "metadata": {},
   "source": [
    "### 1. Import & QA"
   ]
  },
  {
   "cell_type": "code",
   "execution_count": 54,
   "metadata": {
    "scrolled": false
   },
   "outputs": [],
   "source": [
    "data = pd.read_csv(\"D:\\ML\\Datasets\\labeled_lyrics_cleaned.csv\")"
   ]
  },
  {
   "cell_type": "code",
   "execution_count": 55,
   "metadata": {},
   "outputs": [
    {
     "data": {
      "text/html": [
       "<div>\n",
       "<style scoped>\n",
       "    .dataframe tbody tr th:only-of-type {\n",
       "        vertical-align: middle;\n",
       "    }\n",
       "\n",
       "    .dataframe tbody tr th {\n",
       "        vertical-align: top;\n",
       "    }\n",
       "\n",
       "    .dataframe thead th {\n",
       "        text-align: right;\n",
       "    }\n",
       "</style>\n",
       "<table border=\"1\" class=\"dataframe\">\n",
       "  <thead>\n",
       "    <tr style=\"text-align: right;\">\n",
       "      <th></th>\n",
       "      <th>Unnamed: 0</th>\n",
       "      <th>artist</th>\n",
       "      <th>seq</th>\n",
       "      <th>song</th>\n",
       "      <th>label</th>\n",
       "    </tr>\n",
       "  </thead>\n",
       "  <tbody>\n",
       "    <tr>\n",
       "      <th>0</th>\n",
       "      <td>0</td>\n",
       "      <td>Elijah Blake</td>\n",
       "      <td>No, no\\r\\nI ain't ever trapped out the bando\\r...</td>\n",
       "      <td>Everyday</td>\n",
       "      <td>0.63</td>\n",
       "    </tr>\n",
       "    <tr>\n",
       "      <th>1</th>\n",
       "      <td>1</td>\n",
       "      <td>Elijah Blake</td>\n",
       "      <td>The drinks go down and smoke goes up, I feel m...</td>\n",
       "      <td>Live Till We Die</td>\n",
       "      <td>0.63</td>\n",
       "    </tr>\n",
       "    <tr>\n",
       "      <th>2</th>\n",
       "      <td>2</td>\n",
       "      <td>Elijah Blake</td>\n",
       "      <td>She don't live on planet Earth no more\\r\\nShe ...</td>\n",
       "      <td>The Otherside</td>\n",
       "      <td>0.24</td>\n",
       "    </tr>\n",
       "    <tr>\n",
       "      <th>3</th>\n",
       "      <td>3</td>\n",
       "      <td>Elijah Blake</td>\n",
       "      <td>Trippin' off that Grigio, mobbin', lights low\\...</td>\n",
       "      <td>Pinot</td>\n",
       "      <td>0.54</td>\n",
       "    </tr>\n",
       "    <tr>\n",
       "      <th>4</th>\n",
       "      <td>4</td>\n",
       "      <td>Elijah Blake</td>\n",
       "      <td>I see a midnight panther, so gallant and so br...</td>\n",
       "      <td>Shadows &amp; Diamonds</td>\n",
       "      <td>0.37</td>\n",
       "    </tr>\n",
       "  </tbody>\n",
       "</table>\n",
       "</div>"
      ],
      "text/plain": [
       "   Unnamed: 0        artist  \\\n",
       "0           0  Elijah Blake   \n",
       "1           1  Elijah Blake   \n",
       "2           2  Elijah Blake   \n",
       "3           3  Elijah Blake   \n",
       "4           4  Elijah Blake   \n",
       "\n",
       "                                                 seq                song  \\\n",
       "0  No, no\\r\\nI ain't ever trapped out the bando\\r...            Everyday   \n",
       "1  The drinks go down and smoke goes up, I feel m...    Live Till We Die   \n",
       "2  She don't live on planet Earth no more\\r\\nShe ...       The Otherside   \n",
       "3  Trippin' off that Grigio, mobbin', lights low\\...               Pinot   \n",
       "4  I see a midnight panther, so gallant and so br...  Shadows & Diamonds   \n",
       "\n",
       "   label  \n",
       "0   0.63  \n",
       "1   0.63  \n",
       "2   0.24  \n",
       "3   0.54  \n",
       "4   0.37  "
      ]
     },
     "execution_count": 55,
     "metadata": {},
     "output_type": "execute_result"
    }
   ],
   "source": [
    "data.head()"
   ]
  },
  {
   "cell_type": "code",
   "execution_count": 56,
   "metadata": {},
   "outputs": [
    {
     "data": {
      "text/html": [
       "<div>\n",
       "<style scoped>\n",
       "    .dataframe tbody tr th:only-of-type {\n",
       "        vertical-align: middle;\n",
       "    }\n",
       "\n",
       "    .dataframe tbody tr th {\n",
       "        vertical-align: top;\n",
       "    }\n",
       "\n",
       "    .dataframe thead th {\n",
       "        text-align: right;\n",
       "    }\n",
       "</style>\n",
       "<table border=\"1\" class=\"dataframe\">\n",
       "  <thead>\n",
       "    <tr style=\"text-align: right;\">\n",
       "      <th></th>\n",
       "      <th>index</th>\n",
       "      <th>artist</th>\n",
       "      <th>lyrics</th>\n",
       "      <th>song</th>\n",
       "      <th>valency</th>\n",
       "    </tr>\n",
       "  </thead>\n",
       "  <tbody>\n",
       "    <tr>\n",
       "      <th>0</th>\n",
       "      <td>54911</td>\n",
       "      <td>Simon &amp;  Milo</td>\n",
       "      <td>Hello, this is Stacy, the computer\\nGood morni...</td>\n",
       "      <td>www.nevergetoveryou</td>\n",
       "      <td>0.68</td>\n",
       "    </tr>\n",
       "    <tr>\n",
       "      <th>1</th>\n",
       "      <td>82479</td>\n",
       "      <td>Hippo Campus</td>\n",
       "      <td>See how the western kids\\r\\nHave silicon insid...</td>\n",
       "      <td>western kids</td>\n",
       "      <td>0.52</td>\n",
       "    </tr>\n",
       "    <tr>\n",
       "      <th>2</th>\n",
       "      <td>82478</td>\n",
       "      <td>Hippo Campus</td>\n",
       "      <td>Wisconsin pines, collaborating with the day gl...</td>\n",
       "      <td>way it goes</td>\n",
       "      <td>0.52</td>\n",
       "    </tr>\n",
       "    <tr>\n",
       "      <th>3</th>\n",
       "      <td>82477</td>\n",
       "      <td>Hippo Campus</td>\n",
       "      <td>I see meaning where you don't, where you don't...</td>\n",
       "      <td>vines</td>\n",
       "      <td>0.66</td>\n",
       "    </tr>\n",
       "    <tr>\n",
       "      <th>4</th>\n",
       "      <td>82476</td>\n",
       "      <td>Hippo Campus</td>\n",
       "      <td>My thoughts are a battlefield of sub-surreal a...</td>\n",
       "      <td>vacation</td>\n",
       "      <td>0.55</td>\n",
       "    </tr>\n",
       "  </tbody>\n",
       "</table>\n",
       "</div>"
      ],
      "text/plain": [
       "   index         artist                                             lyrics  \\\n",
       "0  54911  Simon &  Milo  Hello, this is Stacy, the computer\\nGood morni...   \n",
       "1  82479   Hippo Campus  See how the western kids\\r\\nHave silicon insid...   \n",
       "2  82478   Hippo Campus  Wisconsin pines, collaborating with the day gl...   \n",
       "3  82477   Hippo Campus  I see meaning where you don't, where you don't...   \n",
       "4  82476   Hippo Campus  My thoughts are a battlefield of sub-surreal a...   \n",
       "\n",
       "                  song  valency  \n",
       "0  www.nevergetoveryou     0.68  \n",
       "1         western kids     0.52  \n",
       "2          way it goes     0.52  \n",
       "3                vines     0.66  \n",
       "4             vacation     0.55  "
      ]
     },
     "execution_count": 56,
     "metadata": {},
     "output_type": "execute_result"
    }
   ],
   "source": [
    "data.drop(labels=\"Unnamed: 0\", axis=1, inplace=True)\n",
    "data.rename(columns={\"seq\": \"lyrics\", \"label\": \"valency\"}, inplace=True)\n",
    "\n",
    "#data = data.drop_duplicates(subset=['lyrics', 'song'])\n",
    "data.sort_values(by=['song', 'valency'], ascending=False, inplace=True) # to keep highest value valency \n",
    "data = data.drop_duplicates(subset='lyrics')\n",
    "pd.set_option('display.float_format', lambda x: '%.2f' % x) # round everything to 2 decimal places\n",
    "data = data.reset_index() \n",
    "data.head()"
   ]
  },
  {
   "cell_type": "markdown",
   "metadata": {},
   "source": [
    "### 2 EDA"
   ]
  },
  {
   "cell_type": "code",
   "execution_count": 70,
   "metadata": {},
   "outputs": [],
   "source": [
    "lyrics_all_raw = [lyrics for lyrics in data['lyrics']]\n",
    "lyrics_all_raw = ''.join(lyrics_all_raw[:1000])\n",
    "text1 = data['lyrics'][3335]\n",
    "fdist1 = nltk.FreqDist(text1)"
   ]
  },
  {
   "cell_type": "code",
   "execution_count": 71,
   "metadata": {},
   "outputs": [
    {
     "data": {
      "text/plain": [
       "(27.071428571428573, 0.19788918205804748)"
      ]
     },
     "execution_count": 71,
     "metadata": {},
     "output_type": "execute_result"
    }
   ],
   "source": [
    "def lexical_diversity(text):\n",
    "    return len(text) / len(set(text))\n",
    "\n",
    "def percentage(count, total):\n",
    "    return 100 * count / total\n",
    "\n",
    "lexical_diversity(text1), percentage(text1.count('my'), len(text1))"
   ]
  },
  {
   "cell_type": "code",
   "execution_count": 59,
   "metadata": {},
   "outputs": [],
   "source": [
    "from nltk import tokenize\n",
    "from nltk.corpus import brown, stopwords\n",
    "from nltk.stem import WordNetLemmatizer\n",
    "from nltk.corpus import webtext\n",
    "\n",
    "lyrics = [x.replace(\"\\n\", \" \").strip().replace(\"\\r\", \"\") for x in data['lyrics']]"
   ]
  },
  {
   "cell_type": "code",
   "execution_count": 60,
   "metadata": {
    "scrolled": false
   },
   "outputs": [],
   "source": [
    "#lyrics"
   ]
  },
  {
   "cell_type": "code",
   "execution_count": 176,
   "metadata": {
    "scrolled": true
   },
   "outputs": [
    {
     "data": {
      "text/plain": [
       "'The words of wordless may Sing a song to me She stands as tall as trees these days The words of wordless may  Dear Jesus make me simple Strong as trees to sway Give me arms wide open with your beautiful way Just like wordless may  If there were fields as pretty as you Id want to kiss them too If there were fields as pretty as you Id want to kiss them too  If there were eyes as pretty and blue Id want to swim them too If there were skys as pretty and blue Id want to kiss them too  The words of wordless may Sing a song to me She stands as tall as trees these days The words of wordless may Dear Jesus make me simple Strong as trees to sway Give me arms wide open with your beautiful way Just like wordless may  If there were fields as pretty as you Id want to kiss them too If there were skys as pretty as you Id want to kiss them too Music The words of wordless may Sing a song to me She stands as tall as trees these days The words of wordless may Dear Jesus make me simple Strong as trees to sway Give me arms wide open with your beautiful way Just like wordless may'"
      ]
     },
     "execution_count": 176,
     "metadata": {},
     "output_type": "execute_result"
    }
   ],
   "source": [
    "import string # removing punctuation\n",
    "\n",
    "pattern = r'\\[.*?\\]' # remove square brackets and contents\n",
    "\n",
    "song = data['lyrics'][3336].replace(\"\\n\", \" \").replace(\"\\r\", \"\").replace(\"\\t\", \"\").replace(\"  \", \" \").strip()\n",
    "song = song.translate(str.maketrans('', '', string.punctuation))\n",
    "song = re.sub(pattern, '', song)\n",
    "song"
   ]
  },
  {
   "cell_type": "code",
   "execution_count": 177,
   "metadata": {},
   "outputs": [],
   "source": [
    "from nnsplit import NNSplit\n",
    "\n",
    "splitter = NNSplit.load(\"en\")\n",
    "                        #, stride=7, padding=20, threshold=0.8)"
   ]
  },
  {
   "cell_type": "code",
   "execution_count": 178,
   "metadata": {},
   "outputs": [
    {
     "name": "stdout",
     "output_type": "stream",
     "text": [
      "Help on built-in function load:\n",
      "\n",
      "load(model_name, use_cuda=None, **kwargs)\n",
      "    Loads a built-in model. From the local cache or from the interent if it is not cached.\n",
      "    \n",
      "    Args:\n",
      "        model_name (str): Name of the model.\n",
      "        use_cuda (bool): Whether to use CUDA to run the model on GPU. If None, will use CUDA if available, otherwise CPU.\n",
      "        **kwargs: Additional options. Can be:\n",
      "            * threshold (float): Threshold from 0 to 1 above which predictions will be considered positive.\n",
      "            * stride (int): How much to move the window after each prediction (comparable to stride of 1d convolution).\n",
      "            * max_length (int): The maximum length of each cut (comparable to kernel size of 1d convolution).\n",
      "            * padding (int): How much to zero pad the text on both sides.\n",
      "            * batch_size (int): Batch size to use.\n",
      "            * length_divisor (int): Total length will be padded until it is divisible by this number. Allows some additional optimizations.\n",
      "\n"
     ]
    }
   ],
   "source": [
    "help(NNSplit.load)"
   ]
  },
  {
   "cell_type": "code",
   "execution_count": 181,
   "metadata": {},
   "outputs": [],
   "source": [
    "splits = splitter.split([song.lower()])[0]\n",
    "song_sents = [str(x).strip() for x in splits]\n",
    "#song_sents = sorted(set(song_sents))"
   ]
  },
  {
   "cell_type": "code",
   "execution_count": 182,
   "metadata": {},
   "outputs": [
    {
     "data": {
      "text/plain": [
       "['the words of wordless may sing a song to me',\n",
       " 'she stands as tall as trees',\n",
       " 'these days the words of wordless may',\n",
       " 'dear jesus make me simple strong as trees to sway give me arms wide open with your beautiful way just like wordless may',\n",
       " 'if there were fields as pretty as you id want to kiss them too if there were fields as pretty as you id want to kiss them too',\n",
       " 'if there were eyes as pretty and blue id want to swim them too if there were skys as pretty and blue id want to kiss them too',\n",
       " 'the words of wordless may sing a song to me',\n",
       " 'she stands as tall as trees these days',\n",
       " 'the words of wordless may dear',\n",
       " 'jesus make me simple strong as trees to sway give me arms wide open with your beautiful way just like wordless may',\n",
       " 'if there were fields as pretty as you id want to kiss them too if there were skys as pretty as you id want to kiss them too music',\n",
       " 'the words of wordless may sing a song to me',\n",
       " 'she stands as tall as trees these days',\n",
       " 'the words of wordless may dear',\n",
       " 'jesus make me simple strong as trees to sway give me arms wide open with your beautiful way just like wordless may']"
      ]
     },
     "execution_count": 182,
     "metadata": {},
     "output_type": "execute_result"
    }
   ],
   "source": [
    "song_sents"
   ]
  },
  {
   "cell_type": "code",
   "execution_count": 64,
   "metadata": {
    "scrolled": false
   },
   "outputs": [],
   "source": [
    "from nltk.stem import WordNetLemmatizer\n",
    "\n",
    "lemmatizer = WordNetLemmatizer()    \n",
    "tokens = [tokenize.word_tokenize(sent) for sent in song_sents] # should be no punct"
   ]
  },
  {
   "cell_type": "code",
   "execution_count": 65,
   "metadata": {},
   "outputs": [
    {
     "data": {
      "text/plain": [
       "[('headz', 'NN')]"
      ]
     },
     "execution_count": 65,
     "metadata": {},
     "output_type": "execute_result"
    }
   ],
   "source": [
    "from nltk import pos_tag, word_tokenize\n",
    "pos_tag(word_tokenize(song_sents[0])) "
   ]
  },
  {
   "cell_type": "code",
   "execution_count": 66,
   "metadata": {},
   "outputs": [],
   "source": [
    "song = song.translate(str.maketrans('', '', string.punctuation))\n",
    "#pos_tag(word_tokenize(song))"
   ]
  },
  {
   "cell_type": "code",
   "execution_count": 67,
   "metadata": {},
   "outputs": [
    {
     "name": "stdout",
     "output_type": "stream",
     "text": [
      "headz/NN/B-NP/O\n"
     ]
    }
   ],
   "source": [
    "from textblob import TextBlob\n",
    "from textblob.parsers import PatternParser\n",
    "\n",
    "b = TextBlob(song_sents[0])\n",
    "print(b.parse())"
   ]
  },
  {
   "cell_type": "code",
   "execution_count": 68,
   "metadata": {},
   "outputs": [],
   "source": [
    "import spacy\n",
    "#import textacy\n",
    "\n",
    "nlp = spacy.load('en_core_web_sm')"
   ]
  },
  {
   "cell_type": "code",
   "execution_count": 69,
   "metadata": {},
   "outputs": [
    {
     "name": "stdout",
     "output_type": "stream",
     "text": [
      "headz adjective (English), other noun-modifier (Chinese)\n"
     ]
    }
   ],
   "source": [
    "doc = nlp(song_sents[0])\n",
    "\n",
    "for x in doc:\n",
    "    print(x, spacy.explain(x.tag_))"
   ]
  }
 ],
 "metadata": {
  "kernelspec": {
   "display_name": "Python 3",
   "language": "python",
   "name": "python3"
  },
  "language_info": {
   "codemirror_mode": {
    "name": "ipython",
    "version": 3
   },
   "file_extension": ".py",
   "mimetype": "text/x-python",
   "name": "python",
   "nbconvert_exporter": "python",
   "pygments_lexer": "ipython3",
   "version": "3.8.5"
  }
 },
 "nbformat": 4,
 "nbformat_minor": 4
}
