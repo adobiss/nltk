{
 "cells": [
  {
   "cell_type": "code",
   "execution_count": 1,
   "metadata": {},
   "outputs": [],
   "source": [
    "import nltk, re, pprint\n",
    "import pandas as pd\n",
    "import numpy as np"
   ]
  },
  {
   "cell_type": "code",
   "execution_count": 228,
   "metadata": {
    "scrolled": false
   },
   "outputs": [],
   "source": [
    "data = pd.read_csv(\"D:\\ML\\Datasets\\labeled_lyrics_cleaned.csv\")"
   ]
  },
  {
   "cell_type": "code",
   "execution_count": 3,
   "metadata": {},
   "outputs": [
    {
     "data": {
      "text/html": [
       "<div>\n",
       "<style scoped>\n",
       "    .dataframe tbody tr th:only-of-type {\n",
       "        vertical-align: middle;\n",
       "    }\n",
       "\n",
       "    .dataframe tbody tr th {\n",
       "        vertical-align: top;\n",
       "    }\n",
       "\n",
       "    .dataframe thead th {\n",
       "        text-align: right;\n",
       "    }\n",
       "</style>\n",
       "<table border=\"1\" class=\"dataframe\">\n",
       "  <thead>\n",
       "    <tr style=\"text-align: right;\">\n",
       "      <th></th>\n",
       "      <th>Unnamed: 0</th>\n",
       "      <th>artist</th>\n",
       "      <th>seq</th>\n",
       "      <th>song</th>\n",
       "      <th>label</th>\n",
       "    </tr>\n",
       "  </thead>\n",
       "  <tbody>\n",
       "    <tr>\n",
       "      <th>0</th>\n",
       "      <td>0</td>\n",
       "      <td>Elijah Blake</td>\n",
       "      <td>No, no\\r\\nI ain't ever trapped out the bando\\r...</td>\n",
       "      <td>Everyday</td>\n",
       "      <td>0.626</td>\n",
       "    </tr>\n",
       "    <tr>\n",
       "      <th>1</th>\n",
       "      <td>1</td>\n",
       "      <td>Elijah Blake</td>\n",
       "      <td>The drinks go down and smoke goes up, I feel m...</td>\n",
       "      <td>Live Till We Die</td>\n",
       "      <td>0.630</td>\n",
       "    </tr>\n",
       "    <tr>\n",
       "      <th>2</th>\n",
       "      <td>2</td>\n",
       "      <td>Elijah Blake</td>\n",
       "      <td>She don't live on planet Earth no more\\r\\nShe ...</td>\n",
       "      <td>The Otherside</td>\n",
       "      <td>0.240</td>\n",
       "    </tr>\n",
       "    <tr>\n",
       "      <th>3</th>\n",
       "      <td>3</td>\n",
       "      <td>Elijah Blake</td>\n",
       "      <td>Trippin' off that Grigio, mobbin', lights low\\...</td>\n",
       "      <td>Pinot</td>\n",
       "      <td>0.536</td>\n",
       "    </tr>\n",
       "    <tr>\n",
       "      <th>4</th>\n",
       "      <td>4</td>\n",
       "      <td>Elijah Blake</td>\n",
       "      <td>I see a midnight panther, so gallant and so br...</td>\n",
       "      <td>Shadows &amp; Diamonds</td>\n",
       "      <td>0.371</td>\n",
       "    </tr>\n",
       "  </tbody>\n",
       "</table>\n",
       "</div>"
      ],
      "text/plain": [
       "   Unnamed: 0        artist  \\\n",
       "0           0  Elijah Blake   \n",
       "1           1  Elijah Blake   \n",
       "2           2  Elijah Blake   \n",
       "3           3  Elijah Blake   \n",
       "4           4  Elijah Blake   \n",
       "\n",
       "                                                 seq                song  \\\n",
       "0  No, no\\r\\nI ain't ever trapped out the bando\\r...            Everyday   \n",
       "1  The drinks go down and smoke goes up, I feel m...    Live Till We Die   \n",
       "2  She don't live on planet Earth no more\\r\\nShe ...       The Otherside   \n",
       "3  Trippin' off that Grigio, mobbin', lights low\\...               Pinot   \n",
       "4  I see a midnight panther, so gallant and so br...  Shadows & Diamonds   \n",
       "\n",
       "   label  \n",
       "0  0.626  \n",
       "1  0.630  \n",
       "2  0.240  \n",
       "3  0.536  \n",
       "4  0.371  "
      ]
     },
     "execution_count": 3,
     "metadata": {},
     "output_type": "execute_result"
    }
   ],
   "source": [
    "data.head()"
   ]
  },
  {
   "cell_type": "code",
   "execution_count": 4,
   "metadata": {},
   "outputs": [
    {
     "data": {
      "text/html": [
       "<div>\n",
       "<style scoped>\n",
       "    .dataframe tbody tr th:only-of-type {\n",
       "        vertical-align: middle;\n",
       "    }\n",
       "\n",
       "    .dataframe tbody tr th {\n",
       "        vertical-align: top;\n",
       "    }\n",
       "\n",
       "    .dataframe thead th {\n",
       "        text-align: right;\n",
       "    }\n",
       "</style>\n",
       "<table border=\"1\" class=\"dataframe\">\n",
       "  <thead>\n",
       "    <tr style=\"text-align: right;\">\n",
       "      <th></th>\n",
       "      <th>index</th>\n",
       "      <th>artist</th>\n",
       "      <th>lyrics</th>\n",
       "      <th>song</th>\n",
       "      <th>valency</th>\n",
       "    </tr>\n",
       "  </thead>\n",
       "  <tbody>\n",
       "    <tr>\n",
       "      <th>0</th>\n",
       "      <td>54911</td>\n",
       "      <td>Simon &amp;  Milo</td>\n",
       "      <td>Hello, this is Stacy, the computer\\nGood morni...</td>\n",
       "      <td>www.nevergetoveryou</td>\n",
       "      <td>0.68</td>\n",
       "    </tr>\n",
       "    <tr>\n",
       "      <th>1</th>\n",
       "      <td>82479</td>\n",
       "      <td>Hippo Campus</td>\n",
       "      <td>See how the western kids\\r\\nHave silicon insid...</td>\n",
       "      <td>western kids</td>\n",
       "      <td>0.52</td>\n",
       "    </tr>\n",
       "    <tr>\n",
       "      <th>2</th>\n",
       "      <td>82478</td>\n",
       "      <td>Hippo Campus</td>\n",
       "      <td>Wisconsin pines, collaborating with the day gl...</td>\n",
       "      <td>way it goes</td>\n",
       "      <td>0.52</td>\n",
       "    </tr>\n",
       "    <tr>\n",
       "      <th>3</th>\n",
       "      <td>82477</td>\n",
       "      <td>Hippo Campus</td>\n",
       "      <td>I see meaning where you don't, where you don't...</td>\n",
       "      <td>vines</td>\n",
       "      <td>0.66</td>\n",
       "    </tr>\n",
       "    <tr>\n",
       "      <th>4</th>\n",
       "      <td>82476</td>\n",
       "      <td>Hippo Campus</td>\n",
       "      <td>My thoughts are a battlefield of sub-surreal a...</td>\n",
       "      <td>vacation</td>\n",
       "      <td>0.55</td>\n",
       "    </tr>\n",
       "  </tbody>\n",
       "</table>\n",
       "</div>"
      ],
      "text/plain": [
       "   index         artist                                             lyrics  \\\n",
       "0  54911  Simon &  Milo  Hello, this is Stacy, the computer\\nGood morni...   \n",
       "1  82479   Hippo Campus  See how the western kids\\r\\nHave silicon insid...   \n",
       "2  82478   Hippo Campus  Wisconsin pines, collaborating with the day gl...   \n",
       "3  82477   Hippo Campus  I see meaning where you don't, where you don't...   \n",
       "4  82476   Hippo Campus  My thoughts are a battlefield of sub-surreal a...   \n",
       "\n",
       "                  song  valency  \n",
       "0  www.nevergetoveryou     0.68  \n",
       "1         western kids     0.52  \n",
       "2          way it goes     0.52  \n",
       "3                vines     0.66  \n",
       "4             vacation     0.55  "
      ]
     },
     "execution_count": 4,
     "metadata": {},
     "output_type": "execute_result"
    }
   ],
   "source": [
    "data.drop(labels=\"Unnamed: 0\", axis=1, inplace=True)\n",
    "data.rename(columns={\"seq\": \"lyrics\", \"label\": \"valency\"}, inplace=True)\n",
    "\n",
    "#data = data.drop_duplicates(subset=['lyrics', 'song'])\n",
    "data.sort_values(by=['song', 'valency'], ascending=False, inplace=True) # to keep highest value valency \n",
    "data = data.drop_duplicates(subset='lyrics')\n",
    "pd.set_option('display.float_format', lambda x: '%.2f' % x) # round everything to 2 decimal places\n",
    "data = data.reset_index() \n",
    "data.head()"
   ]
  },
  {
   "cell_type": "code",
   "execution_count": 35,
   "metadata": {},
   "outputs": [],
   "source": [
    "from nltk import tokenize\n",
    "from nltk.corpus import brown, stopwords\n",
    "from nltk.stem import WordNetLemmatizer\n",
    "from nltk.corpus import webtext\n",
    "\n",
    "lyrics = [x.replace(\"\\n\", \" \").strip().replace(\"\\r\", \"\") for x in data['lyrics']]"
   ]
  },
  {
   "cell_type": "code",
   "execution_count": 6,
   "metadata": {
    "scrolled": false
   },
   "outputs": [],
   "source": [
    "#lyrics"
   ]
  },
  {
   "cell_type": "code",
   "execution_count": 227,
   "metadata": {},
   "outputs": [
    {
     "data": {
      "text/plain": [
       "\"Who do you carry the torch for my young man? Do you believe in anything? Do you carry it around just to burn things down? Meet me tonight on the turnpike, my darling Cause we believe in everything, If we sweat all these debts then we're sure to drown So we'll strap ourselves up to this engine now, With a God that we found laying under the backseat. What did you learn tonight? Shouting so loud you barely see, You're this broken thing, You're a voice that never sings, that's what I say. You were freezing over hell, You were bringing on the end you do so well You can only blame yourself, that's what I say All that you've taught is to ignore the things I was showing And sweep me under the rug, You're beating with a book everyone that book tells you to love, There is an ember in the heart of the kiln and its burning hot with love, Burning out my center till there's nothing but dust, Rolling me with care into your cigarette, Cause the God I believe in never worked on a campaign trail. What did you learn tonight? Shouting so loud you barely see, You're this broken thing, You're a voice that never sings, that's what I say. You were freezing over hell, You were bringing on the end, you do so well You can only blame yourself, that's what I say Who do you carry that torch for my young man? Do you believe in anything? Do you carry it around just to burn things to the ground? What did you learn tonight? Shouting so loud you barely see, (feels like we could escape, I don't mind throwing away the filthy silver song.) You're this broken thing, You're a voice that never sings, that's what I say. (if you try running the maze of your lies it's too hard to save, If you've thrown out everyone.) You were freezing over hell, You were bringing on the end, you do so well You can only blame yourself, that's what I say\""
      ]
     },
     "execution_count": 227,
     "metadata": {},
     "output_type": "execute_result"
    }
   ],
   "source": [
    "import string # removing punctuation\n",
    "\n",
    "song = data['lyrics'][30].replace(\"\\n\", \" \").replace(\"\\r\", \"\").replace(\"\\t\", \"\").replace(\"  \", \" \").strip()\n",
    "#song = song.translate(str.maketrans('', '', string.punctuation))\n",
    "song"
   ]
  },
  {
   "cell_type": "code",
   "execution_count": 185,
   "metadata": {},
   "outputs": [],
   "source": [
    "from nnsplit import NNSplit\n",
    "\n",
    "splitter = NNSplit.load(\"en\")"
   ]
  },
  {
   "cell_type": "code",
   "execution_count": 226,
   "metadata": {},
   "outputs": [
    {
     "data": {
      "text/plain": [
       "['do you believe in anything?',\n",
       " 'do you carry it around just to burn things down?',\n",
       " 'do you carry it around just to burn things to the ground?',\n",
       " 'i believe in never worked on a campaign trail.',\n",
       " \"i was showing and sweep me under the rug, you're beating with a book everyone that book tells you to love, there is an ember in the heart of the kiln and its burning hot with love, burning out my center\",\n",
       " \"if you try running the maze of your lies it's too hard to save, if you've thrown out everyone.)\",\n",
       " 'meet me tonight on the turnpike, my darling cause',\n",
       " \"see, you're this broken thing, you're a voice that never sings, that's what i say.\",\n",
       " 'shouting so loud you barely',\n",
       " \"shouting so loud you barely see, (feels like we could escape, i don't mind throwing away the filthy silver song.)\",\n",
       " \"shouting so loud you barely see, you're this broken thing, you're a voice that never sings, that's what i say.\",\n",
       " \"till there's nothing but dust, rolling me with care into your cigarette, cause the god\",\n",
       " \"we believe in everything, if we sweat all these debts then we're sure to drown so we'll strap ourselves up to this engine now, with a god that we found laying under the backseat.\",\n",
       " 'what did you learn tonight?',\n",
       " 'who do you carry the torch for my young man?',\n",
       " \"you can only blame yourself, that's what i say\",\n",
       " \"you can only blame yourself, that's what i say all that you've taught is to ignore the things\",\n",
       " \"you can only blame yourself, that's what i say who do you carry that torch for my young man?\",\n",
       " 'you were freezing over hell, you were bringing on the end you do so well',\n",
       " 'you were freezing over hell, you were bringing on the end, you do so well',\n",
       " \"you're this broken thing, you're a voice that never sings, that's what i say. (\"]"
      ]
     },
     "execution_count": 226,
     "metadata": {},
     "output_type": "execute_result"
    }
   ],
   "source": [
    "splits = splitter.split([song.lower()])[0]\n",
    "song_sents = [str(x).strip() for x in splits]\n",
    "song_sents = sorted(set(song_sents))\n",
    "\n",
    "song_sents"
   ]
  },
  {
   "cell_type": "code",
   "execution_count": 211,
   "metadata": {
    "scrolled": false
   },
   "outputs": [],
   "source": [
    "from nltk.stem import WordNetLemmatizer\n",
    "\n",
    "lemmatizer = WordNetLemmatizer()    \n",
    "tokens = [tokenize.word_tokenize(sent) for sent in song_sents] # should be no punct"
   ]
  }
 ],
 "metadata": {
  "kernelspec": {
   "display_name": "Python 3",
   "language": "python",
   "name": "python3"
  },
  "language_info": {
   "codemirror_mode": {
    "name": "ipython",
    "version": 3
   },
   "file_extension": ".py",
   "mimetype": "text/x-python",
   "name": "python",
   "nbconvert_exporter": "python",
   "pygments_lexer": "ipython3",
   "version": "3.8.5"
  }
 },
 "nbformat": 4,
 "nbformat_minor": 4
}
